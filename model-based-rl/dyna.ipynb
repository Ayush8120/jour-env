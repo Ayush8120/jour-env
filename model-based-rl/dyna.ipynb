{
 "cells": [
  {
   "attachments": {},
   "cell_type": "markdown",
   "metadata": {},
   "source": [
    "## Dyna : Integrated Learning, Planning and Reacting\n",
    "\n",
    "3 steps. Q-Learning, Model Update, N-step imagination"
   ]
  },
  {
   "cell_type": "code",
   "execution_count": 3,
   "metadata": {},
   "outputs": [],
   "source": [
    "%matplotlib inline\n",
    "import numpy as np\n",
    "import matplotlib.pyplot as plt\n",
    "import os, jdc, shutil\n",
    "from tqdm import tqdm\n",
    "\n",
    "from rl_glue import RLGlue\n",
    "from agent import BaseAgent\n",
    "from maze_env import ShortcutMazeEnvironment\n",
    "\n",
    "os.makedirs('results', exist_ok=True)"
   ]
  },
  {
   "cell_type": "code",
   "execution_count": 4,
   "metadata": {},
   "outputs": [],
   "source": [
    "class DynaQAgent(BaseAgent):\n",
    "\n",
    "    def __init__(self, agent_info):\n",
    "        super(DynaQAgent, self).__init__()\n",
    "\n",
    "        try:\n",
    "            self.num_states = agent_info[\"num_states\"]\n",
    "            self.num_actions = agent_info[\"num_actions\"]\n",
    "        except:\n",
    "            print(\"You need to pass num_states and num_actions\")\n",
    "        \n",
    "        self.gamma = agent_info.get(\"discount\", 0.95)\n",
    "        self.step_size = agent_info.get(\"step_size\", 0.1)\n",
    "        self.epsilon = agent_info.get(\"epsilon\", 0.1)\n",
    "        self.planning_steps = agent_info.get(\"planning_steps\", 10)\n",
    "\n",
    "        self.rand_generator = np.random.RandomState(agent_info.get('random_seed', 42))\n",
    "        self.planning_rand_generator = np.random.RandomState(agent_info.get('planning_random_seed', 42))\n",
    "\n",
    "        #world model\n",
    "        #dictionaries of dictionaries {state: {actions : {reward, next_state}}}\n",
    "        self.q_values = np.zeros((self.num_states, self.num_actions))\n",
    "        self.actions = list(range(self.num_actions))\n",
    "        self.past_action = -1\n",
    "        self.past_state = -1\n",
    "        self.model = {}"
   ]
  },
  {
   "cell_type": "code",
   "execution_count": 5,
   "metadata": {},
   "outputs": [],
   "source": [
    "def update_model(self, past_state, past_action, state, reward):\n",
    "    \"\"\"updates the model \n",
    "    \n",
    "    Args:\n",
    "        past_state       (int): s\n",
    "        past_action      (int): a\n",
    "        state            (int): s'\n",
    "        reward           (int): r\n",
    "    Returns:\n",
    "        Nothing\n",
    "    \"\"\"\n",
    "    # Update the model with the (s,a,s',r) tuple (1~4 lines)\n",
    "\n",
    "    if past_state not in self.model:\n",
    "        self.model[past_state] = {}\n",
    "    self.model[past_state][past_action] = {state,reward}\n",
    "\n",
    "    "
   ]
  },
  {
   "cell_type": "code",
   "execution_count": 2,
   "metadata": {},
   "outputs": [
    {
     "name": "stderr",
     "output_type": "stream",
     "text": [
      "UsageError: Cell magic `%%add_to` not found.\n"
     ]
    }
   ],
   "source": [
    "def planning_step(self):\n",
    "    \"\"\"performs planning, i.e. indirect RL.\n",
    "\n",
    "    Args:\n",
    "        None\n",
    "    Returns:\n",
    "        Nothing\n",
    "    \"\"\"\n",
    "    \n",
    "    # The indirect RL step:\n",
    "    # - Choose a state and action from the set of experiences that are stored in the model. (~2 lines)\n",
    "    # - Query the model with this state-action pair for the predicted next state and reward.(~1 line)\n",
    "    # - Update the action values with this simulated experience.                            (2~4 lines)\n",
    "    # - Repeat for the required number of planning steps.\n",
    "    #\n",
    "    # Note that the update equation is different for terminal and non-terminal transitions. \n",
    "    # To differentiate between a terminal and a non-terminal next state, assume that the model stores\n",
    "    # the terminal state as a dummy state like -1\n",
    "    #\n",
    "    # Important: remember you have a random number generator 'planning_rand_generator' as \n",
    "    #     a part of the class which you need to use as self.planning_rand_generator.choice()\n",
    "    #     For the sake of reproducibility and grading, *do not* use anything else like \n",
    "    #     np.random.choice() for performing search control.\n",
    "\n",
    "    for _ in range(self.planning_step):\n",
    "        chosen_state = self.planning_rand_generator.choice(self.model.keys())\n",
    "        chosen_action = self.planning_rand_generator.choice(self.model[chosen_state].keys())\n",
    "        next_st, rew = self.model[chosen_state][chosen_action]\n",
    "\n",
    "        if next_st != -1:\n",
    "            self.q_values[chosen_state][chosen_action]  += self.step_size *(rew + self.gamma* np.max(self.q_values[next_st])  - self.q_values[chosen_state][chosen_action])\n",
    "        else:\n",
    "            self.q_values[chosen_state][chosen_action]  += self.step_size *(rew - self.q_values[chosen_state][chosen_action])\n"
   ]
  },
  {
   "cell_type": "code",
   "execution_count": null,
   "metadata": {},
   "outputs": [],
   "source": [
    "def agent_start(self, state):\n",
    "    action = self.choose_action_egreedy(self.rand_generator, state)\n",
    "    self.past_state = state\n",
    "    self.past_action = action\n",
    "\n",
    "    return self.past_action\n",
    "\n",
    "def agent_step(self, reward, state):\n",
    "    self.q_values[self.past_state][self.past_action] += self.step_size*(reward + self.gamma*(np.max(self.q_values[state])) - self.q_values[self.past_state][self.past_action])\n",
    "\n",
    "    self.update_model(self.past_state, self.past_action, state, reward)\n",
    "    self.planning_step()\n",
    "\n",
    "    action = self.choose_action_egreedy(self.rand_generator, state)\n",
    "    self.past_state = state\n",
    "    self.past_action = action\n",
    "\n",
    "def agent_end(self,reward):\n",
    "    self.q_values[self.past_state][self.past_action] += self.step_size*(reward - self.q_values[self.past_state][self.past_action])\n",
    "\n",
    "    self.update_model(self.past_state, self.past_action, -1, reward)\n",
    "    self.planning_step()\n",
    "\n"
   ]
  }
 ],
 "metadata": {
  "kernelspec": {
   "display_name": "ai2thor",
   "language": "python",
   "name": "python3"
  },
  "language_info": {
   "codemirror_mode": {
    "name": "ipython",
    "version": 3
   },
   "file_extension": ".py",
   "mimetype": "text/x-python",
   "name": "python",
   "nbconvert_exporter": "python",
   "pygments_lexer": "ipython3",
   "version": "3.9.16"
  },
  "orig_nbformat": 4
 },
 "nbformat": 4,
 "nbformat_minor": 2
}
